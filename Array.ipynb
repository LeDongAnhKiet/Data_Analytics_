{
  "nbformat": 4,
  "nbformat_minor": 0,
  "metadata": {
    "colab": {
      "provenance": [],
      "authorship_tag": "ABX9TyNY5DURXJ+YEpXd4P3fIJ/G",
      "include_colab_link": true
    },
    "kernelspec": {
      "name": "python3",
      "display_name": "Python 3"
    },
    "language_info": {
      "name": "python"
    }
  },
  "cells": [
    {
      "cell_type": "markdown",
      "metadata": {
        "id": "view-in-github",
        "colab_type": "text"
      },
      "source": [
        "<a href=\"https://colab.research.google.com/github/LeDongAnhKiet/Data_Analytics_/blob/main/Array.ipynb\" target=\"_parent\"><img src=\"https://colab.research.google.com/assets/colab-badge.svg\" alt=\"Open In Colab\"/></a>"
      ]
    },
    {
      "cell_type": "code",
      "execution_count": 1,
      "metadata": {
        "id": "d62rKP203Spf"
      },
      "outputs": [],
      "source": [
        "import numpy as np"
      ]
    },
    {
      "cell_type": "code",
      "source": [
        "a = np.array([1,5,6,7,8])\n",
        "print(a,'\\n')\n",
        "a = np.append(a, 9) # Thêm 1 phần tử vào cuối\n",
        "print(a,'\\n')\n",
        "a = np.insert(a, 1, [2,3,4])  # Chèn các phần tử vào vị trí thứ 1\n",
        "print(a,'\\n')\n",
        "a = np.delete(a, [0, 3])  # Xóa vị trí thứ 0 và 3\n",
        "print(a,'\\n')\n",
        "b = a.copy() # Sao chép giá trị vào b\n",
        "print(b,'\\n')"
      ],
      "metadata": {
        "colab": {
          "base_uri": "https://localhost:8080/"
        },
        "id": "eLLblkBF3bZC",
        "outputId": "8883604c-d39d-406a-d9d4-161e81303781"
      },
      "execution_count": 9,
      "outputs": [
        {
          "output_type": "stream",
          "name": "stdout",
          "text": [
            "[1 5 6 7 8] \n",
            "\n",
            "[1 5 6 7 8 9] \n",
            "\n",
            "[1 2 3 4 5 6 7 8 9] \n",
            "\n",
            "[2 3 5 6 7 8 9] \n",
            "\n",
            "[2 3 5 6 7 8 9] \n",
            "\n"
          ]
        }
      ]
    },
    {
      "cell_type": "code",
      "source": [
        "a = np.array([[1,2],[1,2]])\n",
        "b = np.array([[3,4],[3,4]])\n",
        "\n",
        "# Ghép 2 mảng thành 1 mảng, giữ các chiều\n",
        "arr = np.concatenate((a, b))\n",
        "print(arr,'\\n')\n",
        "\n",
        "# Ghép 2 mảng thành 1 mảng, số chiều theo số mảng được ghép\n",
        "arr = np.concatenate((a, b), axis=1)\n",
        "print(arr,'\\n')"
      ],
      "metadata": {
        "colab": {
          "base_uri": "https://localhost:8080/"
        },
        "id": "PH8zAmVb48gO",
        "outputId": "317b1dbd-c1af-4e42-f965-831ac1ca6c1e"
      },
      "execution_count": 13,
      "outputs": [
        {
          "output_type": "stream",
          "name": "stdout",
          "text": [
            "[[1 2]\n",
            " [1 2]\n",
            " [3 4]\n",
            " [3 4]] \n",
            "\n",
            "[[1 2 3 4]\n",
            " [1 2 3 4]] \n",
            "\n"
          ]
        }
      ]
    },
    {
      "cell_type": "code",
      "source": [
        "# Xếp 2 mảng thành dọc\n",
        "arr = np.vstack((a, b))\n",
        "print(arr,'\\n')\n",
        "\n",
        "# Ghép 2 thành ngang\n",
        "arr = np.hstack((a, b))\n",
        "print(arr,'\\n')"
      ],
      "metadata": {
        "colab": {
          "base_uri": "https://localhost:8080/"
        },
        "id": "KVkYJhMO74Y8",
        "outputId": "b711b05d-613f-42af-889e-774ffdaf45dd"
      },
      "execution_count": 12,
      "outputs": [
        {
          "output_type": "stream",
          "name": "stdout",
          "text": [
            "[[1 2]\n",
            " [1 2]\n",
            " [3 4]\n",
            " [3 4]] \n",
            "\n",
            "[[1 2 3 4]\n",
            " [1 2 3 4]] \n",
            "\n"
          ]
        }
      ]
    },
    {
      "cell_type": "code",
      "source": [
        "a = np.array([1,2,3,4,5,1,2,3,4,6,1,2,6])\n",
        "print(np.unique(a),'\\n') # Lọc giá trị trùng\n",
        "b, dem = np.unique(a, return_counts=True)\n",
        "print(b,'\\n',dem) # Lọc và đếm giá trị trùng"
      ],
      "metadata": {
        "colab": {
          "base_uri": "https://localhost:8080/"
        },
        "id": "FbxcRzR88f-o",
        "outputId": "6560e8f5-b36a-427f-8a58-375e0722dad1"
      },
      "execution_count": 17,
      "outputs": [
        {
          "output_type": "stream",
          "name": "stdout",
          "text": [
            "[1 2 3 4 5 6] \n",
            "\n",
            "[1 2 3 4 5 6] \n",
            " [3 3 2 2 1 2]\n"
          ]
        }
      ]
    },
    {
      "cell_type": "code",
      "source": [
        "a = np.array([1,2,3,4,5])\n",
        "b = np.array([3,4,5,6,7])\n",
        "\n",
        "print(np.intersect1d(a,b))  # Lấy phần tử giống nhau\n",
        "print(np.union1d(a,b))  # Lọc phần tử trùng\n",
        "print(np.setdiff1d(a,b))  # Lọc phần tử của a không trùng với b\n",
        "print(np.setxor1d(a,b)) # Lọc phần tử không trùng"
      ],
      "metadata": {
        "colab": {
          "base_uri": "https://localhost:8080/"
        },
        "id": "0ALhQptB9gat",
        "outputId": "9cda1340-2b12-4815-f627-919364b94858"
      },
      "execution_count": 20,
      "outputs": [
        {
          "output_type": "stream",
          "name": "stdout",
          "text": [
            "[3 4 5]\n",
            "[1 2 3 4 5 6 7]\n",
            "[1 2]\n",
            "[1 2 6 7]\n"
          ]
        }
      ]
    }
  ]
}